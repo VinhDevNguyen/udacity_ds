{
 "cells": [
  {
   "cell_type": "markdown",
   "metadata": {},
   "source": [
    "#### Removing Data Part II\n",
    "\n",
    "So, you now have seen how we can fit a model by dropping rows with missing values.  This is great in that sklearn doesn't break! However, this means future observations will not obtain a prediction if they have missing values in any of the columns.\n",
    "\n",
    "In this notebook, you will answer a few questions about what happened in the last video, and take a few additional steps."
   ]
  },
  {
   "cell_type": "code",
   "execution_count": 1,
   "metadata": {},
   "outputs": [
    {
     "data": {
      "text/html": [
       "<div>\n",
       "<style scoped>\n",
       "    .dataframe tbody tr th:only-of-type {\n",
       "        vertical-align: middle;\n",
       "    }\n",
       "\n",
       "    .dataframe tbody tr th {\n",
       "        vertical-align: top;\n",
       "    }\n",
       "\n",
       "    .dataframe thead th {\n",
       "        text-align: right;\n",
       "    }\n",
       "</style>\n",
       "<table border=\"1\" class=\"dataframe\">\n",
       "  <thead>\n",
       "    <tr style=\"text-align: right;\">\n",
       "      <th></th>\n",
       "      <th>Salary</th>\n",
       "      <th>CareerSatisfaction</th>\n",
       "      <th>HoursPerWeek</th>\n",
       "      <th>JobSatisfaction</th>\n",
       "      <th>StackOverflowSatisfaction</th>\n",
       "    </tr>\n",
       "  </thead>\n",
       "  <tbody>\n",
       "    <tr>\n",
       "      <th>0</th>\n",
       "      <td>NaN</td>\n",
       "      <td>NaN</td>\n",
       "      <td>0.0</td>\n",
       "      <td>NaN</td>\n",
       "      <td>9.0</td>\n",
       "    </tr>\n",
       "    <tr>\n",
       "      <th>1</th>\n",
       "      <td>NaN</td>\n",
       "      <td>NaN</td>\n",
       "      <td>NaN</td>\n",
       "      <td>NaN</td>\n",
       "      <td>8.0</td>\n",
       "    </tr>\n",
       "    <tr>\n",
       "      <th>2</th>\n",
       "      <td>113750.0</td>\n",
       "      <td>8.0</td>\n",
       "      <td>NaN</td>\n",
       "      <td>9.0</td>\n",
       "      <td>8.0</td>\n",
       "    </tr>\n",
       "    <tr>\n",
       "      <th>3</th>\n",
       "      <td>NaN</td>\n",
       "      <td>6.0</td>\n",
       "      <td>5.0</td>\n",
       "      <td>3.0</td>\n",
       "      <td>10.0</td>\n",
       "    </tr>\n",
       "    <tr>\n",
       "      <th>4</th>\n",
       "      <td>NaN</td>\n",
       "      <td>6.0</td>\n",
       "      <td>NaN</td>\n",
       "      <td>8.0</td>\n",
       "      <td>NaN</td>\n",
       "    </tr>\n",
       "  </tbody>\n",
       "</table>\n",
       "</div>"
      ],
      "text/plain": [
       "     Salary  CareerSatisfaction  HoursPerWeek  JobSatisfaction  \\\n",
       "0       NaN                 NaN           0.0              NaN   \n",
       "1       NaN                 NaN           NaN              NaN   \n",
       "2  113750.0                 8.0           NaN              9.0   \n",
       "3       NaN                 6.0           5.0              3.0   \n",
       "4       NaN                 6.0           NaN              8.0   \n",
       "\n",
       "   StackOverflowSatisfaction  \n",
       "0                        9.0  \n",
       "1                        8.0  \n",
       "2                        8.0  \n",
       "3                       10.0  \n",
       "4                        NaN  "
      ]
     },
     "execution_count": 1,
     "metadata": {},
     "output_type": "execute_result"
    }
   ],
   "source": [
    "import numpy as np\n",
    "import pandas as pd\n",
    "import matplotlib.pyplot as plt\n",
    "from sklearn.linear_model import LinearRegression\n",
    "from sklearn.model_selection import train_test_split\n",
    "from sklearn.metrics import r2_score, mean_squared_error\n",
    "import seaborn as sns\n",
    "import RemovingData as t\n",
    "%matplotlib inline\n",
    "\n",
    "df = pd.read_csv('./survey_results_public.csv')\n",
    "\n",
    "#Subset to only quantitative vars\n",
    "num_vars = df[['Salary', 'CareerSatisfaction', 'HoursPerWeek', 'JobSatisfaction', 'StackOverflowSatisfaction']]\n",
    "\n",
    "\n",
    "num_vars.head()"
   ]
  },
  {
   "cell_type": "code",
   "execution_count": 34,
   "metadata": {},
   "outputs": [
    {
     "data": {
      "text/plain": [
       "<bound method DataFrame.info of        Respondent                                       Professional  \\\n",
       "0               1                                            Student   \n",
       "1               2                                            Student   \n",
       "2               3                             Professional developer   \n",
       "3               4  Professional non-developer who sometimes write...   \n",
       "4               5                             Professional developer   \n",
       "...           ...                                                ...   \n",
       "19097       19098                             Professional developer   \n",
       "19098       19099                                            Student   \n",
       "19099       19100  Professional non-developer who sometimes write...   \n",
       "19100       19101                             Professional developer   \n",
       "19101       19102                             Professional developer   \n",
       "\n",
       "                    ProgramHobby         Country      University  \\\n",
       "0                      Yes, both   United States              No   \n",
       "1                      Yes, both  United Kingdom  Yes, full-time   \n",
       "2                      Yes, both  United Kingdom              No   \n",
       "3                      Yes, both   United States              No   \n",
       "4      Yes, I program as a hobby     Switzerland              No   \n",
       "...                          ...             ...             ...   \n",
       "19097  Yes, I program as a hobby          Canada              No   \n",
       "19098  Yes, I program as a hobby           India              No   \n",
       "19099  Yes, I program as a hobby  United Kingdom              No   \n",
       "19100  Yes, I program as a hobby   United States              No   \n",
       "19101  Yes, I program as a hobby          France              No   \n",
       "\n",
       "                                        EmploymentStatus  \\\n",
       "0                 Not employed, and not looking for work   \n",
       "1                                     Employed part-time   \n",
       "2                                     Employed full-time   \n",
       "3                                     Employed full-time   \n",
       "4                                     Employed full-time   \n",
       "...                                                  ...   \n",
       "19097                                 Employed full-time   \n",
       "19098             Not employed, and not looking for work   \n",
       "19099  Independent contractor, freelancer, or self-em...   \n",
       "19100                                 Employed full-time   \n",
       "19101                                 Employed full-time   \n",
       "\n",
       "                                         FormalEducation  \\\n",
       "0                                       Secondary school   \n",
       "1      Some college/university study without earning ...   \n",
       "2                                      Bachelor's degree   \n",
       "3                                        Doctoral degree   \n",
       "4                                        Master's degree   \n",
       "...                                                  ...   \n",
       "19097                                  Bachelor's degree   \n",
       "19098                                   Secondary school   \n",
       "19099                                  Bachelor's degree   \n",
       "19100  Some college/university study without earning ...   \n",
       "19101                                    Master's degree   \n",
       "\n",
       "                                      MajorUndergrad  \\\n",
       "0                                                NaN   \n",
       "1           Computer science or software engineering   \n",
       "2           Computer science or software engineering   \n",
       "3      A non-computer-focused engineering discipline   \n",
       "4           Computer science or software engineering   \n",
       "...                                              ...   \n",
       "19097                          A business discipline   \n",
       "19098                                            NaN   \n",
       "19099       Computer science or software engineering   \n",
       "19100                        A humanities discipline   \n",
       "19101       Computer science or software engineering   \n",
       "\n",
       "                                              HomeRemote  \\\n",
       "0                                                    NaN   \n",
       "1                  More than half, but not all, the time   \n",
       "2      Less than half the time, but at least one day ...   \n",
       "3      Less than half the time, but at least one day ...   \n",
       "4                                                  Never   \n",
       "...                                                  ...   \n",
       "19097                              A few days each month   \n",
       "19098                                                NaN   \n",
       "19099                                              Never   \n",
       "19100  Less than half the time, but at least one day ...   \n",
       "19101  All or almost all the time (I'm full-time remote)   \n",
       "\n",
       "                    CompanySize  ... StackOverflowMakeMoney Gender  \\\n",
       "0                           NaN  ...      Strongly disagree   Male   \n",
       "1            20 to 99 employees  ...      Strongly disagree   Male   \n",
       "2      10,000 or more employees  ...               Disagree   Male   \n",
       "3      10,000 or more employees  ...               Disagree   Male   \n",
       "4            10 to 19 employees  ...                    NaN    NaN   \n",
       "...                         ...  ...                    ...    ...   \n",
       "19097        10 to 19 employees  ...               Disagree   Male   \n",
       "19098                       NaN  ...                    NaN    NaN   \n",
       "19099                       NaN  ...                    NaN    NaN   \n",
       "19100      100 to 499 employees  ...               Disagree   Male   \n",
       "19101      100 to 499 employees  ...                    NaN    NaN   \n",
       "\n",
       "                                 HighestEducationParents  \\\n",
       "0                                            High school   \n",
       "1                                      A master's degree   \n",
       "2                                  A professional degree   \n",
       "3                                      A doctoral degree   \n",
       "4                                                    NaN   \n",
       "...                                                  ...   \n",
       "19097  Some college/university study, no bachelor's d...   \n",
       "19098                                                NaN   \n",
       "19099                                                NaN   \n",
       "19100  Some college/university study, no bachelor's d...   \n",
       "19101                                                NaN   \n",
       "\n",
       "                               Race         SurveyLong QuestionsInteresting  \\\n",
       "0      White or of European descent  Strongly disagree       Strongly agree   \n",
       "1      White or of European descent     Somewhat agree       Somewhat agree   \n",
       "2      White or of European descent     Somewhat agree                Agree   \n",
       "3      White or of European descent              Agree                Agree   \n",
       "4                               NaN                NaN                  NaN   \n",
       "...                             ...                ...                  ...   \n",
       "19097  White or of European descent     Somewhat agree                Agree   \n",
       "19098                           NaN                NaN                  NaN   \n",
       "19099                           NaN                NaN                  NaN   \n",
       "19100  White or of European descent     Somewhat agree       Somewhat agree   \n",
       "19101                           NaN                NaN                  NaN   \n",
       "\n",
       "      QuestionsConfusing InterestedAnswers    Salary  ExpectedSalary  \n",
       "0               Disagree    Strongly agree       NaN             NaN  \n",
       "1               Disagree    Strongly agree       NaN         37500.0  \n",
       "2               Disagree             Agree  113750.0             NaN  \n",
       "3         Somewhat agree    Strongly agree       NaN             NaN  \n",
       "4                    NaN               NaN       NaN             NaN  \n",
       "...                  ...               ...       ...             ...  \n",
       "19097           Disagree             Agree       NaN             NaN  \n",
       "19098                NaN               NaN       NaN             NaN  \n",
       "19099                NaN               NaN       NaN             NaN  \n",
       "19100           Disagree             Agree  110000.0             NaN  \n",
       "19101                NaN               NaN       NaN             NaN  \n",
       "\n",
       "[19102 rows x 154 columns]>"
      ]
     },
     "execution_count": 34,
     "metadata": {},
     "output_type": "execute_result"
    }
   ],
   "source": [
    "df.info"
   ]
  },
  {
   "cell_type": "markdown",
   "metadata": {},
   "source": [
    "#### Question 1\n",
    "\n",
    "**1.** What proportion of individuals in the dataset reported a salary?"
   ]
  },
  {
   "cell_type": "code",
   "execution_count": 13,
   "metadata": {},
   "outputs": [
    {
     "data": {
      "text/plain": [
       "0.26222385090566436"
      ]
     },
     "execution_count": 13,
     "metadata": {},
     "output_type": "execute_result"
    }
   ],
   "source": [
    "prop_sals = 1 - num_vars.isnull()['Salary'].mean()\n",
    "\n",
    "prop_sals"
   ]
  },
  {
   "cell_type": "code",
   "execution_count": 14,
   "metadata": {},
   "outputs": [
    {
     "name": "stdout",
     "output_type": "stream",
     "text": [
      "Nice job! That looks right!\n"
     ]
    }
   ],
   "source": [
    "t.prop_sals_test(prop_sals) #test"
   ]
  },
  {
   "cell_type": "markdown",
   "metadata": {},
   "source": [
    "#### Question 2\n",
    "\n",
    "**2.** Remove the rows associated with nan values in Salary (only Salary) from the dataframe **num_vars**.  Store the dataframe with these rows removed in **sal_rem**."
   ]
  },
  {
   "cell_type": "code",
   "execution_count": 16,
   "metadata": {},
   "outputs": [
    {
     "data": {
      "text/html": [
       "<div>\n",
       "<style scoped>\n",
       "    .dataframe tbody tr th:only-of-type {\n",
       "        vertical-align: middle;\n",
       "    }\n",
       "\n",
       "    .dataframe tbody tr th {\n",
       "        vertical-align: top;\n",
       "    }\n",
       "\n",
       "    .dataframe thead th {\n",
       "        text-align: right;\n",
       "    }\n",
       "</style>\n",
       "<table border=\"1\" class=\"dataframe\">\n",
       "  <thead>\n",
       "    <tr style=\"text-align: right;\">\n",
       "      <th></th>\n",
       "      <th>Salary</th>\n",
       "      <th>CareerSatisfaction</th>\n",
       "      <th>HoursPerWeek</th>\n",
       "      <th>JobSatisfaction</th>\n",
       "      <th>StackOverflowSatisfaction</th>\n",
       "    </tr>\n",
       "  </thead>\n",
       "  <tbody>\n",
       "    <tr>\n",
       "      <th>2</th>\n",
       "      <td>113750.0</td>\n",
       "      <td>8.0</td>\n",
       "      <td>NaN</td>\n",
       "      <td>9.0</td>\n",
       "      <td>8.0</td>\n",
       "    </tr>\n",
       "    <tr>\n",
       "      <th>14</th>\n",
       "      <td>100000.0</td>\n",
       "      <td>8.0</td>\n",
       "      <td>NaN</td>\n",
       "      <td>8.0</td>\n",
       "      <td>8.0</td>\n",
       "    </tr>\n",
       "    <tr>\n",
       "      <th>17</th>\n",
       "      <td>130000.0</td>\n",
       "      <td>9.0</td>\n",
       "      <td>NaN</td>\n",
       "      <td>8.0</td>\n",
       "      <td>8.0</td>\n",
       "    </tr>\n",
       "    <tr>\n",
       "      <th>18</th>\n",
       "      <td>82500.0</td>\n",
       "      <td>5.0</td>\n",
       "      <td>NaN</td>\n",
       "      <td>3.0</td>\n",
       "      <td>NaN</td>\n",
       "    </tr>\n",
       "    <tr>\n",
       "      <th>22</th>\n",
       "      <td>100764.0</td>\n",
       "      <td>8.0</td>\n",
       "      <td>NaN</td>\n",
       "      <td>9.0</td>\n",
       "      <td>8.0</td>\n",
       "    </tr>\n",
       "  </tbody>\n",
       "</table>\n",
       "</div>"
      ],
      "text/plain": [
       "      Salary  CareerSatisfaction  HoursPerWeek  JobSatisfaction  \\\n",
       "2   113750.0                 8.0           NaN              9.0   \n",
       "14  100000.0                 8.0           NaN              8.0   \n",
       "17  130000.0                 9.0           NaN              8.0   \n",
       "18   82500.0                 5.0           NaN              3.0   \n",
       "22  100764.0                 8.0           NaN              9.0   \n",
       "\n",
       "    StackOverflowSatisfaction  \n",
       "2                         8.0  \n",
       "14                        8.0  \n",
       "17                        8.0  \n",
       "18                        NaN  \n",
       "22                        8.0  "
      ]
     },
     "execution_count": 16,
     "metadata": {},
     "output_type": "execute_result"
    }
   ],
   "source": [
    "sal_rm = num_vars.dropna(subset=['Salary'], axis=0)\n",
    "sal_rm.head()"
   ]
  },
  {
   "cell_type": "code",
   "execution_count": 35,
   "metadata": {},
   "outputs": [
    {
     "data": {
      "text/plain": [
       "<bound method DataFrame.info of              Salary  CareerSatisfaction  HoursPerWeek  JobSatisfaction  \\\n",
       "2      113750.00000                 8.0           NaN              9.0   \n",
       "14     100000.00000                 8.0           NaN              8.0   \n",
       "17     130000.00000                 9.0           NaN              8.0   \n",
       "18      82500.00000                 5.0           NaN              3.0   \n",
       "22     100764.00000                 8.0           NaN              9.0   \n",
       "...             ...                 ...           ...              ...   \n",
       "19079   65000.00000                10.0           0.0              8.0   \n",
       "19086   80645.16129                10.0           NaN              8.0   \n",
       "19088   41250.00000                 8.0           NaN              8.0   \n",
       "19089   50500.00000                 7.0          30.0              6.0   \n",
       "19100  110000.00000                 8.0           NaN              9.0   \n",
       "\n",
       "       StackOverflowSatisfaction  \n",
       "2                            8.0  \n",
       "14                           8.0  \n",
       "17                           8.0  \n",
       "18                           NaN  \n",
       "22                           8.0  \n",
       "...                          ...  \n",
       "19079                       10.0  \n",
       "19086                       10.0  \n",
       "19088                        9.0  \n",
       "19089                        9.0  \n",
       "19100                        9.0  \n",
       "\n",
       "[5009 rows x 5 columns]>"
      ]
     },
     "execution_count": 35,
     "metadata": {},
     "output_type": "execute_result"
    }
   ],
   "source": [
    "sal_rm.info"
   ]
  },
  {
   "cell_type": "code",
   "execution_count": 17,
   "metadata": {},
   "outputs": [
    {
     "name": "stdout",
     "output_type": "stream",
     "text": [
      "Nice job! That looks right!\n"
     ]
    }
   ],
   "source": [
    "t.sal_rm_test(sal_rm) #test"
   ]
  },
  {
   "cell_type": "markdown",
   "metadata": {},
   "source": [
    "#### Question 3\n",
    "\n",
    "**3.** Using **sal_rm**, create **X** be a dataframe (matrix) of all of the numeric feature variables.  Then, let **y** be the response vector you would like to predict (Salary).  Run the cell below once you have split the data, and use the result of the code to assign the correct letter to **question3_solution**."
   ]
  },
  {
   "cell_type": "code",
   "execution_count": 22,
   "metadata": {},
   "outputs": [
    {
     "name": "stdout",
     "output_type": "stream",
     "text": [
      "Oh no! It doesn't work!!!\n",
      "Input X contains NaN.\n",
      "LinearRegression does not accept missing values encoded as NaN natively. For supervised learning, you might want to consider sklearn.ensemble.HistGradientBoostingClassifier and Regressor which accept missing values encoded as NaNs natively. Alternatively, it is possible to preprocess the data, for instance by using an imputer transformer in a pipeline or drop samples with missing values. See https://scikit-learn.org/stable/modules/impute.html You can find a list of all estimators that handle NaN values at the following page: https://scikit-learn.org/stable/modules/impute.html#estimators-that-handle-nan-values\n"
     ]
    }
   ],
   "source": [
    "X = sal_rm.drop('Salary', axis=1)\n",
    "y = sal_rm['Salary']\n",
    "\n",
    "# Split data into training and test data, and fit a linear model\n",
    "X_train, X_test, y_train, y_test = train_test_split(X, y , test_size=.30, random_state=42)\n",
    "lm_model = LinearRegression()\n",
    "\n",
    "# If our model works, it should just fit our model to the data. Otherwise, it will let us know.\n",
    "try:\n",
    "    lm_model.fit(X_train, y_train)\n",
    "except Exception as e:\n",
    "    print(\"Oh no! It doesn't work!!!\")\n",
    "    print(e)\n"
   ]
  },
  {
   "cell_type": "code",
   "execution_count": 23,
   "metadata": {},
   "outputs": [
    {
     "name": "stdout",
     "output_type": "stream",
     "text": [
      "Nice job! That's right! Those missing values in the X matrix will still not allow us to predict the response.\n"
     ]
    }
   ],
   "source": [
    "a = 'Python just likes to break sometimes for no reason at all.' \n",
    "b = 'It worked, because Python is magic.'\n",
    "c = 'It broke because we still have missing values in X'\n",
    "\n",
    "question3_solution = c#Letter here\n",
    "\n",
    "#test\n",
    "t.question3_check(question3_solution)"
   ]
  },
  {
   "cell_type": "markdown",
   "metadata": {},
   "source": [
    "#### Question 4\n",
    "\n",
    "**4.** Remove the rows associated with nan values in any column from **num_vars** (this was the removal process used in the screencast).  Store the dataframe with these rows removed in **all_rem**."
   ]
  },
  {
   "cell_type": "code",
   "execution_count": 24,
   "metadata": {},
   "outputs": [
    {
     "data": {
      "text/html": [
       "<div>\n",
       "<style scoped>\n",
       "    .dataframe tbody tr th:only-of-type {\n",
       "        vertical-align: middle;\n",
       "    }\n",
       "\n",
       "    .dataframe tbody tr th {\n",
       "        vertical-align: top;\n",
       "    }\n",
       "\n",
       "    .dataframe thead th {\n",
       "        text-align: right;\n",
       "    }\n",
       "</style>\n",
       "<table border=\"1\" class=\"dataframe\">\n",
       "  <thead>\n",
       "    <tr style=\"text-align: right;\">\n",
       "      <th></th>\n",
       "      <th>Salary</th>\n",
       "      <th>CareerSatisfaction</th>\n",
       "      <th>HoursPerWeek</th>\n",
       "      <th>JobSatisfaction</th>\n",
       "      <th>StackOverflowSatisfaction</th>\n",
       "    </tr>\n",
       "  </thead>\n",
       "  <tbody>\n",
       "    <tr>\n",
       "      <th>25</th>\n",
       "      <td>175000.000000</td>\n",
       "      <td>7.0</td>\n",
       "      <td>0.0</td>\n",
       "      <td>7.0</td>\n",
       "      <td>9.0</td>\n",
       "    </tr>\n",
       "    <tr>\n",
       "      <th>34</th>\n",
       "      <td>14838.709677</td>\n",
       "      <td>10.0</td>\n",
       "      <td>1.0</td>\n",
       "      <td>8.0</td>\n",
       "      <td>10.0</td>\n",
       "    </tr>\n",
       "    <tr>\n",
       "      <th>52</th>\n",
       "      <td>15674.203822</td>\n",
       "      <td>6.0</td>\n",
       "      <td>4.0</td>\n",
       "      <td>5.0</td>\n",
       "      <td>8.0</td>\n",
       "    </tr>\n",
       "    <tr>\n",
       "      <th>57</th>\n",
       "      <td>43010.752688</td>\n",
       "      <td>10.0</td>\n",
       "      <td>2.0</td>\n",
       "      <td>6.0</td>\n",
       "      <td>10.0</td>\n",
       "    </tr>\n",
       "    <tr>\n",
       "      <th>70</th>\n",
       "      <td>65000.000000</td>\n",
       "      <td>8.0</td>\n",
       "      <td>2.0</td>\n",
       "      <td>5.0</td>\n",
       "      <td>7.0</td>\n",
       "    </tr>\n",
       "  </tbody>\n",
       "</table>\n",
       "</div>"
      ],
      "text/plain": [
       "           Salary  CareerSatisfaction  HoursPerWeek  JobSatisfaction  \\\n",
       "25  175000.000000                 7.0           0.0              7.0   \n",
       "34   14838.709677                10.0           1.0              8.0   \n",
       "52   15674.203822                 6.0           4.0              5.0   \n",
       "57   43010.752688                10.0           2.0              6.0   \n",
       "70   65000.000000                 8.0           2.0              5.0   \n",
       "\n",
       "    StackOverflowSatisfaction  \n",
       "25                        9.0  \n",
       "34                       10.0  \n",
       "52                        8.0  \n",
       "57                       10.0  \n",
       "70                        7.0  "
      ]
     },
     "execution_count": 24,
     "metadata": {},
     "output_type": "execute_result"
    }
   ],
   "source": [
    "all_rm = num_vars.dropna()\n",
    "\n",
    "all_rm.head()"
   ]
  },
  {
   "cell_type": "code",
   "execution_count": 25,
   "metadata": {},
   "outputs": [
    {
     "name": "stdout",
     "output_type": "stream",
     "text": [
      "Nice job! That looks right.  The default is to drop any row with a missing value in any column, so we didn't need to specify any arguments in this case.\n"
     ]
    }
   ],
   "source": [
    "t.all_rm_test(all_rm) #test"
   ]
  },
  {
   "cell_type": "markdown",
   "metadata": {},
   "source": [
    "#### Question 5\n",
    "\n",
    "**5.** Using **all_rm**, create **X_2** be a dataframe (matrix) of all of the numeric feature variables.  Then, let **y_2** be the response vector you would like to predict (Salary).  Run the cell below once you have split the data, and use the result of the code to assign the correct letter to **question5_solution**."
   ]
  },
  {
   "cell_type": "code",
   "execution_count": 27,
   "metadata": {},
   "outputs": [],
   "source": [
    "X_2 = all_rm.drop('Salary', axis=1)\n",
    "y_2 = all_rm['Salary']\n",
    "\n",
    "# Split data into training and test data, and fit a linear model\n",
    "X_2_train, X_2_test, y_2_train, y_2_test = train_test_split(X_2, y_2 , test_size=.30, random_state=42)\n",
    "lm_2_model = LinearRegression()\n",
    "\n",
    "# If our model works, it should just fit our model to the data. Otherwise, it will let us know.\n",
    "try:\n",
    "    lm_2_model.fit(X_2_train, y_2_train)\n",
    "except:\n",
    "    print(\"Oh no! It doesn't work!!!\")"
   ]
  },
  {
   "cell_type": "code",
   "execution_count": 29,
   "metadata": {},
   "outputs": [
    {
     "name": "stdout",
     "output_type": "stream",
     "text": [
      "Nice job! That's right! Python isn't exactly magic, but sometimes it feels like it is!\n"
     ]
    }
   ],
   "source": [
    "a = 'Python just likes to break sometimes for no reason at all.' \n",
    "b = 'It worked, because Python is magic.'\n",
    "c = 'It broke because we still have missing values in X'\n",
    "\n",
    "question5_solution = b #Letter here\n",
    "\n",
    "#test\n",
    "t.question5_check(question5_solution)"
   ]
  },
  {
   "cell_type": "markdown",
   "metadata": {},
   "source": [
    "#### Question 6\n",
    "\n",
    "**6.** Now, use **lm_2_model** to predict the **y_2_test** response values, and obtain an r-squared value for how well the predicted values compare to the actual test values.  "
   ]
  },
  {
   "cell_type": "code",
   "execution_count": 32,
   "metadata": {},
   "outputs": [
    {
     "data": {
      "text/plain": [
       "0.019170661803762146"
      ]
     },
     "execution_count": 32,
     "metadata": {},
     "output_type": "execute_result"
    }
   ],
   "source": [
    "y_test_preds = lm_2_model.predict(X_2_test)\n",
    "r2_test = r2_score(y_2_test, y_test_preds)\n",
    "\n",
    "# Print r2 to see result\n",
    "r2_test"
   ]
  },
  {
   "cell_type": "code",
   "execution_count": 31,
   "metadata": {},
   "outputs": [
    {
     "name": "stdout",
     "output_type": "stream",
     "text": [
      "Oops!  That wasn't the value that was expected.  You should fit your model using the training data, predict on the X_test data, and then score comparing the y_test and your predicted values.\n"
     ]
    }
   ],
   "source": [
    "t.r2_test_check(r2_test)"
   ]
  },
  {
   "cell_type": "markdown",
   "metadata": {},
   "source": [
    "#### Question 7\n",
    "\n",
    "**7.** Use what you have learned **from the second model you fit** (and as many cells as you need to find the answers) to complete the dictionary with the variables that link to the corresponding descriptions."
   ]
  },
  {
   "cell_type": "code",
   "execution_count": 42,
   "metadata": {},
   "outputs": [
    {
     "name": "stdout",
     "output_type": "stream",
     "text": [
      "Nice job! That looks right to me!  We would really like to predict for anyone who provides a salary, but our model right now definitely has some limitations.\n"
     ]
    }
   ],
   "source": [
    "a = 5009\n",
    "b = 'Other'\n",
    "c = 645\n",
    "d = 'We still want to predict their salary'\n",
    "e = 'We do not care to predict their salary'\n",
    "f = False\n",
    "g = True\n",
    "\n",
    "question7_solution = {'The number of reported salaries in the original dataset': a,#Letter here,\n",
    "                       'The number of test salaries predicted using our model': c,#Letter here,\n",
    "                       'If an individual does not rate stackoverflow, but has a salary': d,#Letter here,\n",
    "                       'If an individual does not have a a job satisfaction, but has a salary': d,#Letter here,\n",
    "                       'Our model predicts salaries for the two individuals described above.': f}#Letter here}\n",
    "                      \n",
    "                      \n",
    "#Check your answers against the solution - you should be told you were right if your answers are correct!                     \n",
    "t.question7_check(question7_solution)"
   ]
  },
  {
   "cell_type": "code",
   "execution_count": null,
   "metadata": {},
   "outputs": [],
   "source": [
    "#Cell for work"
   ]
  },
  {
   "cell_type": "code",
   "execution_count": null,
   "metadata": {},
   "outputs": [],
   "source": [
    "#Cell for work"
   ]
  }
 ],
 "metadata": {
  "kernelspec": {
   "display_name": "Python 3",
   "language": "python",
   "name": "python3"
  },
  "language_info": {
   "codemirror_mode": {
    "name": "ipython",
    "version": 3
   },
   "file_extension": ".py",
   "mimetype": "text/x-python",
   "name": "python",
   "nbconvert_exporter": "python",
   "pygments_lexer": "ipython3",
   "version": "3.10.10"
  }
 },
 "nbformat": 4,
 "nbformat_minor": 2
}
